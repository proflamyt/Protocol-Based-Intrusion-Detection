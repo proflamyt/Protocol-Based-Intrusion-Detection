{
 "cells": [
  {
   "cell_type": "code",
   "execution_count": 68,
   "id": "982fd673",
   "metadata": {},
   "outputs": [],
   "source": [
    "import pandas as pd\n",
    "import numpy as np"
   ]
  },
  {
   "cell_type": "code",
   "execution_count": 69,
   "id": "d99c891d",
   "metadata": {},
   "outputs": [],
   "source": [
    "cyber = pd.read_csv('CSIC.csv')\n"
   ]
  },
  {
   "cell_type": "code",
   "execution_count": 70,
   "id": "b7e0c8d7",
   "metadata": {},
   "outputs": [
    {
     "data": {
      "text/html": [
       "<div>\n",
       "<style scoped>\n",
       "    .dataframe tbody tr th:only-of-type {\n",
       "        vertical-align: middle;\n",
       "    }\n",
       "\n",
       "    .dataframe tbody tr th {\n",
       "        vertical-align: top;\n",
       "    }\n",
       "\n",
       "    .dataframe thead th {\n",
       "        text-align: right;\n",
       "    }\n",
       "</style>\n",
       "<table border=\"1\" class=\"dataframe\">\n",
       "  <thead>\n",
       "    <tr style=\"text-align: right;\">\n",
       "      <th></th>\n",
       "      <th>method</th>\n",
       "      <th>url</th>\n",
       "      <th>payload</th>\n",
       "      <th>payload_len</th>\n",
       "      <th>alpha</th>\n",
       "      <th>non_alpha</th>\n",
       "      <th>attack_feature</th>\n",
       "      <th>label</th>\n",
       "    </tr>\n",
       "  </thead>\n",
       "  <tbody>\n",
       "    <tr>\n",
       "      <th>0</th>\n",
       "      <td>0</td>\n",
       "      <td>http://localhost:8080/tienda1/publico/caracter...</td>\n",
       "      <td>modo=entrar&amp;login=hazell&amp;pwd=clam%21o&amp;remember...</td>\n",
       "      <td>59</td>\n",
       "      <td>96.153846</td>\n",
       "      <td>3.846154</td>\n",
       "      <td>0.040000</td>\n",
       "      <td>0</td>\n",
       "    </tr>\n",
       "    <tr>\n",
       "      <th>1</th>\n",
       "      <td>0</td>\n",
       "      <td>http://localhost:8080/tienda1/publico/caracter...</td>\n",
       "      <td>modo=entrar&amp;login=sagers&amp;pwd=C%21HuZAr&amp;remembe...</td>\n",
       "      <td>60</td>\n",
       "      <td>96.296296</td>\n",
       "      <td>3.703704</td>\n",
       "      <td>0.038462</td>\n",
       "      <td>0</td>\n",
       "    </tr>\n",
       "    <tr>\n",
       "      <th>2</th>\n",
       "      <td>0</td>\n",
       "      <td>http://localhost:8080/tienda1/publico/caracter...</td>\n",
       "      <td>modo=entrar&amp;login=verde&amp;pwd=en683%2467&amp;remembe...</td>\n",
       "      <td>60</td>\n",
       "      <td>96.296296</td>\n",
       "      <td>3.703704</td>\n",
       "      <td>0.038462</td>\n",
       "      <td>0</td>\n",
       "    </tr>\n",
       "    <tr>\n",
       "      <th>3</th>\n",
       "      <td>0</td>\n",
       "      <td>http://localhost:8080/tienda1/publico/caracter...</td>\n",
       "      <td>modo=entrar&amp;login=nolie&amp;pwd=nort%24e%D1a&amp;remem...</td>\n",
       "      <td>62</td>\n",
       "      <td>96.296296</td>\n",
       "      <td>3.703704</td>\n",
       "      <td>0.038462</td>\n",
       "      <td>0</td>\n",
       "    </tr>\n",
       "    <tr>\n",
       "      <th>4</th>\n",
       "      <td>0</td>\n",
       "      <td>http://localhost:8080/tienda1/publico/caracter...</td>\n",
       "      <td>modo=entrar&amp;login=niu&amp;pwd=raqu%24%ED9omo&amp;remem...</td>\n",
       "      <td>62</td>\n",
       "      <td>96.296296</td>\n",
       "      <td>3.703704</td>\n",
       "      <td>0.038462</td>\n",
       "      <td>0</td>\n",
       "    </tr>\n",
       "  </tbody>\n",
       "</table>\n",
       "</div>"
      ],
      "text/plain": [
       "   method                                                url  \\\n",
       "0       0  http://localhost:8080/tienda1/publico/caracter...   \n",
       "1       0  http://localhost:8080/tienda1/publico/caracter...   \n",
       "2       0  http://localhost:8080/tienda1/publico/caracter...   \n",
       "3       0  http://localhost:8080/tienda1/publico/caracter...   \n",
       "4       0  http://localhost:8080/tienda1/publico/caracter...   \n",
       "\n",
       "                                             payload  payload_len      alpha  \\\n",
       "0  modo=entrar&login=hazell&pwd=clam%21o&remember...           59  96.153846   \n",
       "1  modo=entrar&login=sagers&pwd=C%21HuZAr&remembe...           60  96.296296   \n",
       "2  modo=entrar&login=verde&pwd=en683%2467&remembe...           60  96.296296   \n",
       "3  modo=entrar&login=nolie&pwd=nort%24e%D1a&remem...           62  96.296296   \n",
       "4  modo=entrar&login=niu&pwd=raqu%24%ED9omo&remem...           62  96.296296   \n",
       "\n",
       "   non_alpha  attack_feature  label  \n",
       "0   3.846154        0.040000      0  \n",
       "1   3.703704        0.038462      0  \n",
       "2   3.703704        0.038462      0  \n",
       "3   3.703704        0.038462      0  \n",
       "4   3.703704        0.038462      0  "
      ]
     },
     "execution_count": 70,
     "metadata": {},
     "output_type": "execute_result"
    }
   ],
   "source": [
    "cyber.head()"
   ]
  },
  {
   "cell_type": "code",
   "execution_count": 71,
   "id": "f3b88caf",
   "metadata": {},
   "outputs": [],
   "source": [
    "cyber['payload'] = cyber['payload'].fillna(' ')\n"
   ]
  },
  {
   "cell_type": "code",
   "execution_count": 72,
   "id": "99d06314",
   "metadata": {},
   "outputs": [
    {
     "data": {
      "text/plain": [
       "method            0\n",
       "url               0\n",
       "payload           0\n",
       "payload_len       0\n",
       "alpha             0\n",
       "non_alpha         0\n",
       "attack_feature    0\n",
       "label             0\n",
       "dtype: int64"
      ]
     },
     "execution_count": 72,
     "metadata": {},
     "output_type": "execute_result"
    }
   ],
   "source": [
    "cyber.isnull().sum()"
   ]
  },
  {
   "cell_type": "code",
   "execution_count": 73,
   "id": "2edf8614",
   "metadata": {},
   "outputs": [],
   "source": [
    "# Remove column name \n",
    "cyber.drop(['url'], axis=1,inplace=True)"
   ]
  },
  {
   "cell_type": "code",
   "execution_count": 74,
   "id": "c272b800",
   "metadata": {},
   "outputs": [
    {
     "data": {
      "text/html": [
       "<div>\n",
       "<style scoped>\n",
       "    .dataframe tbody tr th:only-of-type {\n",
       "        vertical-align: middle;\n",
       "    }\n",
       "\n",
       "    .dataframe tbody tr th {\n",
       "        vertical-align: top;\n",
       "    }\n",
       "\n",
       "    .dataframe thead th {\n",
       "        text-align: right;\n",
       "    }\n",
       "</style>\n",
       "<table border=\"1\" class=\"dataframe\">\n",
       "  <thead>\n",
       "    <tr style=\"text-align: right;\">\n",
       "      <th></th>\n",
       "      <th>method</th>\n",
       "      <th>payload</th>\n",
       "      <th>payload_len</th>\n",
       "      <th>alpha</th>\n",
       "      <th>non_alpha</th>\n",
       "      <th>attack_feature</th>\n",
       "      <th>label</th>\n",
       "    </tr>\n",
       "  </thead>\n",
       "  <tbody>\n",
       "    <tr>\n",
       "      <th>0</th>\n",
       "      <td>0</td>\n",
       "      <td>modo=entrar&amp;login=hazell&amp;pwd=clam%21o&amp;remember...</td>\n",
       "      <td>59</td>\n",
       "      <td>96.153846</td>\n",
       "      <td>3.846154</td>\n",
       "      <td>0.040000</td>\n",
       "      <td>0</td>\n",
       "    </tr>\n",
       "    <tr>\n",
       "      <th>1</th>\n",
       "      <td>0</td>\n",
       "      <td>modo=entrar&amp;login=sagers&amp;pwd=C%21HuZAr&amp;remembe...</td>\n",
       "      <td>60</td>\n",
       "      <td>96.296296</td>\n",
       "      <td>3.703704</td>\n",
       "      <td>0.038462</td>\n",
       "      <td>0</td>\n",
       "    </tr>\n",
       "    <tr>\n",
       "      <th>2</th>\n",
       "      <td>0</td>\n",
       "      <td>modo=entrar&amp;login=verde&amp;pwd=en683%2467&amp;remembe...</td>\n",
       "      <td>60</td>\n",
       "      <td>96.296296</td>\n",
       "      <td>3.703704</td>\n",
       "      <td>0.038462</td>\n",
       "      <td>0</td>\n",
       "    </tr>\n",
       "    <tr>\n",
       "      <th>3</th>\n",
       "      <td>0</td>\n",
       "      <td>modo=entrar&amp;login=nolie&amp;pwd=nort%24e%D1a&amp;remem...</td>\n",
       "      <td>62</td>\n",
       "      <td>96.296296</td>\n",
       "      <td>3.703704</td>\n",
       "      <td>0.038462</td>\n",
       "      <td>0</td>\n",
       "    </tr>\n",
       "    <tr>\n",
       "      <th>4</th>\n",
       "      <td>0</td>\n",
       "      <td>modo=entrar&amp;login=niu&amp;pwd=raqu%24%ED9omo&amp;remem...</td>\n",
       "      <td>62</td>\n",
       "      <td>96.296296</td>\n",
       "      <td>3.703704</td>\n",
       "      <td>0.038462</td>\n",
       "      <td>0</td>\n",
       "    </tr>\n",
       "  </tbody>\n",
       "</table>\n",
       "</div>"
      ],
      "text/plain": [
       "   method                                            payload  payload_len  \\\n",
       "0       0  modo=entrar&login=hazell&pwd=clam%21o&remember...           59   \n",
       "1       0  modo=entrar&login=sagers&pwd=C%21HuZAr&remembe...           60   \n",
       "2       0  modo=entrar&login=verde&pwd=en683%2467&remembe...           60   \n",
       "3       0  modo=entrar&login=nolie&pwd=nort%24e%D1a&remem...           62   \n",
       "4       0  modo=entrar&login=niu&pwd=raqu%24%ED9omo&remem...           62   \n",
       "\n",
       "       alpha  non_alpha  attack_feature  label  \n",
       "0  96.153846   3.846154        0.040000      0  \n",
       "1  96.296296   3.703704        0.038462      0  \n",
       "2  96.296296   3.703704        0.038462      0  \n",
       "3  96.296296   3.703704        0.038462      0  \n",
       "4  96.296296   3.703704        0.038462      0  "
      ]
     },
     "execution_count": 74,
     "metadata": {},
     "output_type": "execute_result"
    }
   ],
   "source": [
    "cyber.head()"
   ]
  },
  {
   "cell_type": "code",
   "execution_count": 75,
   "id": "a4804a02",
   "metadata": {},
   "outputs": [],
   "source": [
    "from sklearn.model_selection import train_test_split\n",
    "\n",
    "attributes = ['method', 'payload', 'payload_len', 'alpha', 'non_alpha','attack_feature']\n",
    "x_train, x_test, y_train, y_test = train_test_split(cyber[attributes], cyber['label'], test_size=0.2, \n",
    "                                                    stratify=cyber['label'], random_state=0)"
   ]
  },
  {
   "cell_type": "code",
   "execution_count": 76,
   "id": "9bee1fa5",
   "metadata": {},
   "outputs": [
    {
     "name": "stdout",
     "output_type": "stream",
     "text": [
      "<class 'pandas.core.frame.DataFrame'>\n",
      "RangeIndex: 35602 entries, 0 to 35601\n",
      "Data columns (total 7 columns):\n",
      " #   Column          Non-Null Count  Dtype  \n",
      "---  ------          --------------  -----  \n",
      " 0   method          35602 non-null  int64  \n",
      " 1   payload         35602 non-null  object \n",
      " 2   payload_len     35602 non-null  int64  \n",
      " 3   alpha           35602 non-null  float64\n",
      " 4   non_alpha       35602 non-null  float64\n",
      " 5   attack_feature  35602 non-null  float64\n",
      " 6   label           35602 non-null  int64  \n",
      "dtypes: float64(3), int64(3), object(1)\n",
      "memory usage: 1.9+ MB\n"
     ]
    }
   ],
   "source": [
    "cyber.info()"
   ]
  },
  {
   "cell_type": "code",
   "execution_count": 77,
   "id": "afee5cbb",
   "metadata": {},
   "outputs": [
    {
     "name": "stdout",
     "output_type": "stream",
     "text": [
      "Train: 19936 Dev: 8545 Test: 7121\n"
     ]
    }
   ],
   "source": [
    "x_train, x_dev, y_train, y_dev = train_test_split(x_train, y_train, test_size=0.3, \n",
    "                                                  stratify=y_train, random_state=0)\n",
    "print('Train:', len(y_train), 'Dev:', len(y_dev), 'Test:', len(y_test))"
   ]
  },
  {
   "cell_type": "code",
   "execution_count": 78,
   "id": "59684eb8",
   "metadata": {},
   "outputs": [
    {
     "name": "stdout",
     "output_type": "stream",
     "text": [
      "Number of features: 565\n"
     ]
    }
   ],
   "source": [
    "from sklearn.feature_extraction.text import CountVectorizer\n",
    "\n",
    "count_vectorizer = CountVectorizer(analyzer='word', min_df=10)\n",
    "n_grams_train = count_vectorizer.fit_transform(x_train['payload'])\n",
    "n_grams_dev = count_vectorizer.transform(x_dev['payload'])\n",
    "\n",
    "print('Number of features:', len(count_vectorizer.vocabulary_))"
   ]
  },
  {
   "cell_type": "markdown",
   "id": "dca90d1f",
   "metadata": {},
   "source": [
    "### SGDClassifier"
   ]
  },
  {
   "cell_type": "code",
   "execution_count": 86,
   "id": "cc848465",
   "metadata": {},
   "outputs": [
    {
     "name": "stdout",
     "output_type": "stream",
     "text": [
      "SGDClassifier accuracy: 0.9885313048566413\n"
     ]
    }
   ],
   "source": [
    "from sklearn.linear_model import SGDClassifier\n",
    "from sklearn.metrics import accuracy_score\n",
    "\n",
    "sgd = SGDClassifier(random_state=0)\n",
    "sgd.fit(n_grams_train, y_train)\n",
    "y_pred_sgd = sgd.predict(n_grams_dev)\n",
    "print(\"SGDClassifier accuracy:\", accuracy_score(y_dev, y_pred_sgd))"
   ]
  },
  {
   "cell_type": "markdown",
   "id": "0c684af5",
   "metadata": {},
   "source": [
    "### Logistic Regression"
   ]
  },
  {
   "cell_type": "code",
   "execution_count": 87,
   "id": "11db7a18",
   "metadata": {},
   "outputs": [
    {
     "name": "stdout",
     "output_type": "stream",
     "text": [
      "Logistic Regression accuracy: 0.9885313048566413\n"
     ]
    },
    {
     "name": "stderr",
     "output_type": "stream",
     "text": [
      "C:\\Users\\USER\\anaconda3\\lib\\site-packages\\sklearn\\linear_model\\_logistic.py:763: ConvergenceWarning: lbfgs failed to converge (status=1):\n",
      "STOP: TOTAL NO. of ITERATIONS REACHED LIMIT.\n",
      "\n",
      "Increase the number of iterations (max_iter) or scale the data as shown in:\n",
      "    https://scikit-learn.org/stable/modules/preprocessing.html\n",
      "Please also refer to the documentation for alternative solver options:\n",
      "    https://scikit-learn.org/stable/modules/linear_model.html#logistic-regression\n",
      "  n_iter_i = _check_optimize_result(\n"
     ]
    }
   ],
   "source": [
    "from sklearn.linear_model import LogisticRegression\n",
    "from sklearn.metrics import accuracy_score\n",
    "lgr = LogisticRegression()\n",
    "lgr.fit(n_grams_train, y_train)\n",
    "y_pred_lgr = lgr.predict(n_grams_dev)\n",
    "print(\"Logistic Regression accuracy:\", accuracy_score(y_dev, y_pred_sgd))"
   ]
  },
  {
   "cell_type": "markdown",
   "id": "11276768",
   "metadata": {},
   "source": [
    "### K Nearest Neighbor"
   ]
  },
  {
   "cell_type": "code",
   "execution_count": 88,
   "id": "73236aa3",
   "metadata": {},
   "outputs": [
    {
     "name": "stdout",
     "output_type": "stream",
     "text": [
      "KNeighborsC;assifier accuracy: 0.9885313048566413\n"
     ]
    }
   ],
   "source": [
    "from sklearn.neighbors import KNeighborsClassifier\n",
    "kn = KNeighborsClassifier(n_neighbors = 15)\n",
    "kn.fit(n_grams_train, y_train)\n",
    "y_pred_kn = kn.predict(n_grams_dev)\n",
    "print(\"KNeighborsC;assifier accuracy:\", accuracy_score(y_dev, y_pred_sgd))\n"
   ]
  },
  {
   "cell_type": "markdown",
   "id": "55230fda",
   "metadata": {},
   "source": [
    "### Support Vector Machine"
   ]
  },
  {
   "cell_type": "code",
   "execution_count": 89,
   "id": "d15f58a9",
   "metadata": {},
   "outputs": [
    {
     "name": "stdout",
     "output_type": "stream",
     "text": [
      "Support Vector Machine accuracy: 0.9885313048566413\n"
     ]
    }
   ],
   "source": [
    "from sklearn.svm import SVC\n",
    "svm = SVC(kernel='linear',C=0.025,random_state = 100)\n",
    "svm.fit(n_grams_train, y_train)\n",
    "y_pred_svm = svm.predict(n_grams_dev)\n",
    "\n",
    "print(\"Support Vector Machine accuracy:\", accuracy_score(y_dev, y_pred_sgd))"
   ]
  },
  {
   "cell_type": "markdown",
   "id": "2a33fe8e",
   "metadata": {},
   "source": [
    "### K Nearest Neighbor"
   ]
  },
  {
   "cell_type": "code",
   "execution_count": 90,
   "id": "658f2142",
   "metadata": {},
   "outputs": [
    {
     "name": "stdout",
     "output_type": "stream",
     "text": [
      "KNeighborsC;assifier accuracy: 0.9885313048566413\n"
     ]
    }
   ],
   "source": [
    "from sklearn.neighbors import KNeighborsClassifier\n",
    "kn = KNeighborsClassifier(n_neighbors = 15)\n",
    "kn.fit(n_grams_train, y_train)\n",
    "y_pred_kn = kn.predict(n_grams_dev)\n",
    "print(\"KNeighborsC;assifier accuracy:\", accuracy_score(y_dev, y_pred_sgd))\n"
   ]
  },
  {
   "cell_type": "code",
   "execution_count": null,
   "id": "3c3bd3a4",
   "metadata": {},
   "outputs": [],
   "source": []
  },
  {
   "cell_type": "markdown",
   "id": "cf6f8424",
   "metadata": {},
   "source": [
    "### Support Vector Machine"
   ]
  },
  {
   "cell_type": "code",
   "execution_count": 91,
   "id": "003f6577",
   "metadata": {},
   "outputs": [
    {
     "name": "stdout",
     "output_type": "stream",
     "text": [
      "Support Vector Machine accuracy: 0.9885313048566413\n"
     ]
    }
   ],
   "source": [
    "from sklearn.svm import SVC\n",
    "svm = SVC(kernel='linear',C=0.025,random_state = 100)\n",
    "svm.fit(n_grams_train, y_train)\n",
    "y_pred_svm = svm.predict(n_grams_dev)\n",
    "\n",
    "print(\"Support Vector Machine accuracy:\", accuracy_score(y_dev, y_pred_sgd))\n"
   ]
  },
  {
   "cell_type": "code",
   "execution_count": null,
   "id": "ef8f039a",
   "metadata": {},
   "outputs": [],
   "source": []
  },
  {
   "cell_type": "code",
   "execution_count": null,
   "id": "e5e36e40",
   "metadata": {},
   "outputs": [],
   "source": []
  }
 ],
 "metadata": {
  "kernelspec": {
   "display_name": "Python 3",
   "language": "python",
   "name": "python3"
  },
  "language_info": {
   "codemirror_mode": {
    "name": "ipython",
    "version": 3
   },
   "file_extension": ".py",
   "mimetype": "text/x-python",
   "name": "python",
   "nbconvert_exporter": "python",
   "pygments_lexer": "ipython3",
   "version": "3.8.8"
  }
 },
 "nbformat": 4,
 "nbformat_minor": 5
}
